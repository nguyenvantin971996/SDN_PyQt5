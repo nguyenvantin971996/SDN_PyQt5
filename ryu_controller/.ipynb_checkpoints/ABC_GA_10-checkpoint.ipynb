{
 "cells": [
  {
   "cell_type": "code",
   "execution_count": 1,
   "id": "7d4236f6",
   "metadata": {},
   "outputs": [
    {
     "name": "stdout",
     "output_type": "stream",
     "text": [
      "0.5839364528656006\n",
      "[[1, 8, 6, 9, 10], [1, 8, 3, 9, 10], [1, 5, 6, 9, 10], [1, 2, 3, 9, 10]] [150.0, 160.0, 170.0, 210.0]\n",
      "0.0006864070892333984\n",
      "[[1, 8, 6, 9, 10], [1, 8, 3, 9, 10], [1, 5, 6, 9, 10], [1, 2, 3, 9, 10]] [150.0, 160.0, 170.0, 210.0]\n",
      "0.22474122047424316\n",
      "[[1, 8, 6, 9, 10], [1, 8, 3, 9, 10], [1, 5, 6, 9, 10], [1, 2, 3, 9, 10]] [150.0, 160.0, 170.0, 210.0]\n",
      "0.0010333061218261719\n",
      "[[1, 8, 6, 9, 10], [1, 8, 3, 9, 10], [1, 5, 6, 9, 10], [1, 2, 3, 9, 10]] [150.0, 160.0, 170.0, 210.0]\n"
     ]
    },
    {
     "data": {
      "text/plain": [
       "([[1, 8, 9, 10, 11, 12, 13, 30],\n",
       "  [1, 2, 3, 4, 16, 27, 22, 12, 13, 30],\n",
       "  [1, 8, 9, 10, 21, 27, 22, 12, 13, 30],\n",
       "  [1, 8, 9, 10, 21, 11, 12, 13, 30],\n",
       "  [1, 2, 3, 4, 16, 27, 21, 10, 11, 12, 13, 30],\n",
       "  [1, 8, 9, 20, 10, 11, 12, 13, 30],\n",
       "  [1, 8, 9, 10, 11, 12, 23, 13, 30],\n",
       "  [1, 2, 3, 15, 4, 16, 27, 22, 12, 13, 30],\n",
       "  [1, 2, 3, 4, 5, 16, 27, 22, 12, 13, 30],\n",
       "  [1, 2, 3, 4, 16, 27, 21, 11, 12, 13, 30]],\n",
       " [[(1, 8), (8, 9), (9, 10), (10, 11), (11, 12), (12, 13), (13, 30)],\n",
       "  [(1, 2),\n",
       "   (2, 3),\n",
       "   (3, 4),\n",
       "   (4, 16),\n",
       "   (16, 27),\n",
       "   (27, 22),\n",
       "   (22, 12),\n",
       "   (12, 13),\n",
       "   (13, 30)],\n",
       "  [(1, 8),\n",
       "   (8, 9),\n",
       "   (9, 10),\n",
       "   (10, 21),\n",
       "   (21, 27),\n",
       "   (27, 22),\n",
       "   (22, 12),\n",
       "   (12, 13),\n",
       "   (13, 30)],\n",
       "  [(1, 8), (8, 9), (9, 10), (10, 21), (21, 11), (11, 12), (12, 13), (13, 30)],\n",
       "  [(1, 2),\n",
       "   (2, 3),\n",
       "   (3, 4),\n",
       "   (4, 16),\n",
       "   (16, 27),\n",
       "   (27, 21),\n",
       "   (21, 10),\n",
       "   (10, 11),\n",
       "   (11, 12),\n",
       "   (12, 13),\n",
       "   (13, 30)],\n",
       "  [(1, 8), (8, 9), (9, 20), (20, 10), (10, 11), (11, 12), (12, 13), (13, 30)],\n",
       "  [(1, 8), (8, 9), (9, 10), (10, 11), (11, 12), (12, 23), (23, 13), (13, 30)],\n",
       "  [(1, 2),\n",
       "   (2, 3),\n",
       "   (3, 15),\n",
       "   (15, 4),\n",
       "   (4, 16),\n",
       "   (16, 27),\n",
       "   (27, 22),\n",
       "   (22, 12),\n",
       "   (12, 13),\n",
       "   (13, 30)],\n",
       "  [(1, 2),\n",
       "   (2, 3),\n",
       "   (3, 4),\n",
       "   (4, 5),\n",
       "   (5, 16),\n",
       "   (16, 27),\n",
       "   (27, 22),\n",
       "   (22, 12),\n",
       "   (12, 13),\n",
       "   (13, 30)],\n",
       "  [(1, 2),\n",
       "   (2, 3),\n",
       "   (3, 4),\n",
       "   (4, 16),\n",
       "   (16, 27),\n",
       "   (27, 21),\n",
       "   (21, 11),\n",
       "   (11, 12),\n",
       "   (12, 13),\n",
       "   (13, 30)]],\n",
       " [190.0, 200.0, 220.0, 240.0, 250.0, 260.0, 260.0, 260.0, 260.0, 260.0])"
      ]
     },
     "execution_count": 1,
     "metadata": {},
     "output_type": "execute_result"
    }
   ],
   "source": [
    "import numpy as np\n",
    "import time\n",
    "import matplotlib.pyplot as plt\n",
    "import matplotlib\n",
    "font = {'size'   : 11}\n",
    "matplotlib.rc('font', **font)\n",
    "\n",
    "from ABC_static import ABC\n",
    "from GA_static import GA\n",
    "from YenAlgorithm import YenAlgorithm\n",
    "from get_metric import get_bw_limit\n",
    "Times = 10\n",
    "src = 1\n",
    "dst = 30\n",
    "N = 30\n",
    "Max = 1000\n",
    "K = 10\n",
    "Pc = 0.7\n",
    "Pm = 0.7\n",
    "Ts = 2\n",
    "weight_map = get_bw_limit('../topo_mininet/30_nodes.json')\n",
    "alg_yen = YenAlgorithm(weight_map, src, dst, K)\n",
    "paths_yen, paths_edges_yen, pw_yen = alg_yen.compute_shortest_paths()\n",
    "paths_yen, paths_edges_yen, pw_yen"
   ]
  },
  {
   "cell_type": "code",
   "execution_count": 2,
   "id": "3e5c45cf",
   "metadata": {
    "id": "3e5c45cf"
   },
   "outputs": [],
   "source": [
    "number_success_1 = np.zeros(K)\n",
    "number_success_2 = np.zeros(K)\n",
    "CD_1 = []\n",
    "CD_2 = []\n",
    "time_1 = []\n",
    "time_2 = []"
   ]
  },
  {
   "cell_type": "code",
   "execution_count": null,
   "id": "42cb74ad",
   "metadata": {
    "id": "42cb74ad",
    "outputId": "7170b294-28bf-438a-cf1b-d6894aa3dbf0"
   },
   "outputs": [],
   "source": [
    "for i in range(Times):\n",
    "    alg = ABC(weight_map, src, dst, K, N, Max)\n",
    "    start = time.time()\n",
    "    paths_alg, paths_edges_alg, pw_alg = alg.compute_shortest_paths()\n",
    "    end = time.time()\n",
    "    time_1.append(end - start)\n",
    "    CD_1.append(sum(pw_alg))\n",
    "    for j1 in range(K):\n",
    "        for item in pw_alg:\n",
    "            if pw_yen[j1] == item:\n",
    "                pw_alg.remove(item)\n",
    "                number_success_1[j1] += 1\n",
    "                break"
   ]
  },
  {
   "cell_type": "code",
   "execution_count": null,
   "id": "3ff52567",
   "metadata": {},
   "outputs": [],
   "source": [
    "for i in range(Times):\n",
    "    alg = GA(weight_map, src, dst, K, N, Max, Pc, Pm, Ts)\n",
    "    start = time.time()\n",
    "    paths_alg, paths_edges_alg, pw_alg = alg.compute_shortest_paths()\n",
    "    end = time.time()\n",
    "    time_2.append(end - start)\n",
    "    CD_2.append(sum(pw_alg))\n",
    "    for j1 in range(K):\n",
    "        for item in pw_alg:\n",
    "            if pw_yen[j1] == item:\n",
    "                pw_alg.remove(item)\n",
    "                number_success_2[j1] += 1\n",
    "                break"
   ]
  },
  {
   "cell_type": "code",
   "execution_count": null,
   "id": "cfc342ff",
   "metadata": {
    "id": "cfc342ff",
    "outputId": "4a114475-8a69-40c7-f0a3-9f55d86cddb8"
   },
   "outputs": [],
   "source": [
    "print(number_success_1, number_success_2)"
   ]
  },
  {
   "cell_type": "code",
   "execution_count": null,
   "id": "79fdd72e",
   "metadata": {
    "id": "79fdd72e",
    "outputId": "bd99d36c-3399-4b17-bc1f-8c26348c8fdc"
   },
   "outputs": [],
   "source": [
    "x = np.arange(K)+1\n",
    "width = 0.3\n",
    "fig = plt.figure(figsize=(10, 5))\n",
    "plt.xticks(x)\n",
    "plt.ylim(0, 1.2*Times)\n",
    "plt.bar(x-0.15, number_success_1, width, color='red')\n",
    "plt.bar(x+0.15, number_success_2, width, color='springgreen', hatch=\"//\")\n",
    "plt.xlabel(\"Path No.\")\n",
    "plt.ylabel(\"Number of successful searches\")\n",
    "plt.legend([\"ABC\", \"GA\"], loc=\"upper right\")\n",
    "plt.grid()\n",
    "plt.savefig(\"ABC_GA/ABC_GA_number_success_10.png\", dpi=200)"
   ]
  },
  {
   "cell_type": "code",
   "execution_count": null,
   "id": "08fce0f3",
   "metadata": {
    "id": "08fce0f3",
    "outputId": "a9c08d71-2027-4725-e80e-3ddb756e753a"
   },
   "outputs": [],
   "source": [
    "fig = plt.figure(figsize=(10, 5))\n",
    "avr_1 = round(sum(CD_1)/Times)\n",
    "avr_2 = round(sum(CD_2)/Times)\n",
    "plt.ylim(0.8*min(CD_1), 1.2*max(CD_2))\n",
    "plt.plot(CD_1, label = \"ABC\" + \" (Average = \"+str(avr_1)+\")\", linewidth = '3', color='red')\n",
    "plt.plot(CD_2, label = \"GA\" + \" (Average = \"+str(avr_2)+\")\", linewidth = '2', color='springgreen', linestyle = 'dashed')\n",
    "plt.legend(loc=\"upper right\")\n",
    "plt.xlabel(\"Test No.\")\n",
    "plt.ylabel(\"CD\")\n",
    "plt.grid()\n",
    "plt.savefig(\"ABC_GA/ABC_GA_CD_10.png\", dpi=200)"
   ]
  },
  {
   "cell_type": "code",
   "execution_count": null,
   "id": "000de55d",
   "metadata": {
    "id": "000de55d",
    "outputId": "1f4237fd-38e5-493a-80f1-80648cfa2a4e"
   },
   "outputs": [],
   "source": [
    "fig = plt.figure(figsize=(10, 5))\n",
    "avr_1 = round(sum(time_1)/Times, 2)\n",
    "avr_2 = round(sum(time_2)/Times, 2)\n",
    "plt.ylim(0.8*min(time_2), 1.2*max(time_1))\n",
    "plt.plot(time_1, label = \"ABC\" + \" (Average = \"+str(avr_1)+\"s)\", linewidth = '3', color='red')\n",
    "plt.plot(time_2, label = \"GA\" + \" (Average = \"+str(avr_2)+\"s)\", linewidth = '2', color='springgreen', linestyle = 'dashed')\n",
    "plt.legend(loc=\"upper right\")\n",
    "plt.xlabel(\"Test No.\")\n",
    "plt.ylabel(\"Time in seconds\")\n",
    "plt.grid()\n",
    "plt.savefig(\"ABC_GA/ABC_GA_time_10.png\", dpi=200)"
   ]
  },
  {
   "cell_type": "code",
   "execution_count": null,
   "id": "9bc8acd5",
   "metadata": {
    "id": "9bc8acd5"
   },
   "outputs": [],
   "source": []
  }
 ],
 "metadata": {
  "colab": {
   "provenance": []
  },
  "kernelspec": {
   "display_name": "Python 3 (ipykernel)",
   "language": "python",
   "name": "python3"
  },
  "language_info": {
   "codemirror_mode": {
    "name": "ipython",
    "version": 3
   },
   "file_extension": ".py",
   "mimetype": "text/x-python",
   "name": "python",
   "nbconvert_exporter": "python",
   "pygments_lexer": "ipython3",
   "version": "3.8.10"
  }
 },
 "nbformat": 4,
 "nbformat_minor": 5
}
