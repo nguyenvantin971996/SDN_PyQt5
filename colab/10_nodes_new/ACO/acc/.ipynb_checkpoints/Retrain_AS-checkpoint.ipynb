{
 "cells": [
  {
   "cell_type": "code",
   "execution_count": 17,
   "id": "6859ad55",
   "metadata": {
    "colab": {
     "base_uri": "https://localhost:8080/"
    },
    "executionInfo": {
     "elapsed": 36689,
     "status": "ok",
     "timestamp": 1705571343402,
     "user": {
      "displayName": "Chi Khanh",
      "userId": "04836854760911124570"
     },
     "user_tz": -180
    },
    "id": "6859ad55",
    "outputId": "3dbf087b-d72e-40ac-e851-3e597fc19760"
   },
   "outputs": [
    {
     "name": "stdout",
     "output_type": "stream",
     "text": [
      "(600000, 4, 14) (600000, 4, 14) (200000, 4, 14) (200000, 4, 14) (200000, 4, 14) (200000, 4, 14) (6000, 4, 14) (6000, 4, 14) (2000, 4, 14) (2000, 4, 14)\n",
      "[5, 22, 6, 3, 3, 4, 7] [22, 6, 22, 6, 22, 6, 22, 6, 22, 6, 3, 3, 4, 7] [4, 2, 4, 2, 4, 2, 4, 2, 4, 2, 1, 1, 2, 2] 14\n"
     ]
    }
   ],
   "source": [
    "import gc\n",
    "import math\n",
    "import random\n",
    "import numpy as np\n",
    "import copy\n",
    "import matplotlib.pyplot as plt\n",
    "import pandas as pd\n",
    "import tensorflow as tf\n",
    "from tensorflow.keras.layers import Dense, SimpleRNN, GRU, LSTM, Dropout, TimeDistributed, Input\n",
    "from tensorflow.keras.losses import BinaryCrossentropy\n",
    "from tensorflow.keras.models import Sequential, Model\n",
    "from tensorflow.keras.optimizers import  SGD, RMSprop, Adam\n",
    "from functools import cmp_to_key\n",
    "from google.colab import drive\n",
    "drive.mount('/content/gdrive')\n",
    "import sys\n",
    "sys.path.append('/content/gdrive/My Drive/Colab Notebooks/10_nodes_new')\n",
    "\n",
    "edges = [[1, 2], [1, 5], [1, 8], [2, 3], [3, 4], [3, 8], [3, 9], [4, 10], [5, 6], [6, 7], [6, 8], [6, 9], [7, 10], [9, 10]]\n",
    "number_edges = len(edges)\n",
    "number_steps = 4\n",
    "start_node = 1\n",
    "end_node = 10\n",
    "\n",
    "df = pd.read_csv('gdrive/My Drive/Colab Notebooks/10_nodes_new/data/10_nodes_LU.csv')\n",
    "x = df.iloc[:,:number_edges].values\n",
    "y = df.iloc[:,number_edges:].values\n",
    "\n",
    "df_hp = pd.read_csv('gdrive/My Drive/Colab Notebooks/10_nodes_new/data/10_nodes_LU_hp.csv')\n",
    "x_hp = df_hp.iloc[:,:number_edges].values\n",
    "y_hp = df_hp.iloc[:,number_edges:].values\n",
    "\n",
    "from sklearn.model_selection import train_test_split\n",
    "x_main_train,x_main_tv,y_main_train,y_main_tv = train_test_split(x,y,test_size=2/5)\n",
    "x_main_test,x_main_valid,y_main_test,y_main_valid = train_test_split(x_main_tv,y_main_tv,test_size=1/2)\n",
    "\n",
    "x_hp_train,x_hp_tv,y_hp_train,y_hp_tv = train_test_split(x_hp,y_hp,test_size=2/5)\n",
    "x_hp_test,x_hp_valid,y_hp_test,y_hp_valid = train_test_split(x_hp_tv,y_hp_tv,test_size=1/2)\n",
    "\n",
    "from sklearn.preprocessing import StandardScaler\n",
    "sc = StandardScaler()\n",
    "x_train = sc.fit_transform(x_main_train)\n",
    "x_test = sc.transform(x_main_test)\n",
    "x_valid = sc.transform(x_main_valid)\n",
    "\n",
    "sc_hp = StandardScaler()\n",
    "x_train_1 = sc_hp.fit_transform(x_hp_train)\n",
    "x_test_1 = sc_hp.transform(x_hp_test)\n",
    "x_valid_1 = sc_hp.transform(x_hp_valid)\n",
    "\n",
    "x_train = np.repeat(x_train[:, np.newaxis, : ], number_steps, axis=1)\n",
    "x_test = np.repeat(x_test[:, np.newaxis, : ], number_steps, axis=1)\n",
    "x_valid = np.repeat(x_valid[:, np.newaxis, : ], number_steps, axis=1)\n",
    "\n",
    "x_train_1 = np.repeat(x_train_1[:, np.newaxis, : ], number_steps, axis=1)\n",
    "x_test_1 = np.repeat(x_test_1[:, np.newaxis, : ], number_steps, axis=1)\n",
    "x_valid_1 = np.repeat(x_valid_1[:, np.newaxis, : ], number_steps, axis=1)\n",
    "\n",
    "y_train = np.reshape(y_main_train,(y_main_train.shape[0], number_steps, number_edges))\n",
    "y_test = np.reshape(y_main_test,(y_main_test.shape[0], number_steps, number_edges))\n",
    "y_valid = np.reshape(y_main_valid,(y_main_valid.shape[0], number_steps, number_edges))\n",
    "\n",
    "y_train_1 = np.reshape(y_hp_train,(y_hp_train.shape[0], number_steps, number_edges))\n",
    "y_test_1 = np.reshape(y_hp_test,(y_hp_test.shape[0], number_steps, number_edges))\n",
    "y_valid_1 = np.reshape(y_hp_valid,(y_hp_valid.shape[0], number_steps, number_edges))\n",
    "\n",
    "print(x_train.shape, y_train.shape, x_test.shape, y_test.shape, x_valid.shape, y_valid.shape, x_train_1.shape, y_train_1.shape, x_test_1.shape, y_test_1.shape)\n",
    "\n",
    "# Hyperparameters of structure: number of layers, number of units, dropout, cell type\n",
    "# Hyperparameters of training: learning rate, batch size\n",
    "HP_1 = [[1, 2, 3, 4, 5],\n",
    "       [-1, 10, 20, 30, 40, 50, 60, 70, 80, 90, 100, 110, 120, 130, 140, 150, 160, 170, 180, 190, 200, -1],\n",
    "       [0.0, 0.1, 0.2, 0.3, 0.4, 0.5],\n",
    "       [SimpleRNN, GRU, LSTM],\n",
    "       [SGD, RMSprop, Adam],\n",
    "       [0.0001, 0.001, 0.01, 0.1],\n",
    "       [16, 32, 64, 128, 256, 512, 1024]]\n",
    "\n",
    "t = []\n",
    "for p in HP_1:\n",
    "    t.append(len(p))\n",
    "t1 = []\n",
    "hp = []\n",
    "for i in range(t[0]):\n",
    "    t1.append(t[1])\n",
    "    t1.append(t[2])\n",
    "    hp.append(HP_1[1])\n",
    "    hp.append(HP_1[2])\n",
    "for i in range(3, len(HP_1)):\n",
    "    t1.append(t[i])\n",
    "    hp.append(HP_1[i])\n",
    "t2 = [int(np.sqrt(itm)) for itm in t1]\n",
    "n_hp = 2*t[0] + len(HP_1) - 3\n",
    "print(t, t1, t2, n_hp)\n",
    "\n",
    "from Results import Results\n",
    "def custom_accuracy(y_true, y_pred):\n",
    "    threshold = 0.5\n",
    "    y_pred_binary = tf.cast(tf.greater_equal(y_pred, threshold), tf.float32)\n",
    "    stepwise_correct = tf.reduce_all(tf.equal(y_true, y_pred_binary), axis=-1)\n",
    "    sequencewise_correct = tf.reduce_all(stepwise_correct, axis=-1)\n",
    "    acc = tf.reduce_mean(tf.cast(sequencewise_correct, tf.float32))\n",
    "    return acc\n",
    "\n",
    "callback = tf.keras.callbacks.EarlyStopping(monitor='val_custom_accuracy' ,\n",
    "                                            min_delta=0.001, patience=10, verbose=1, mode='max',\n",
    "                                            restore_best_weights=True)"
   ]
  },
  {
   "cell_type": "code",
   "execution_count": 18,
   "id": "4ef8c14c",
   "metadata": {
    "colab": {
     "base_uri": "https://localhost:8080/"
    },
    "executionInfo": {
     "elapsed": 741,
     "status": "ok",
     "timestamp": 1705571344132,
     "user": {
      "displayName": "Chi Khanh",
      "userId": "04836854760911124570"
     },
     "user_tz": -180
    },
    "id": "4ef8c14c",
    "outputId": "09629fee-fd40-4608-e90c-ca3b75e7900a"
   },
   "outputs": [
    {
     "data": {
      "text/plain": [
       "[[12, 0, 10, 0, 10, 3, 10, 3, 10, 3, 1, 2, 1, 2],\n",
       " [5, 1, 8, 4, 8, 1, 8, 1, 8, 1, 2, 1, 2, 1],\n",
       " [0, 1, 16, 1, 0, 2, 13, 3, 12, 1, 2, 1, 2, 3],\n",
       " [9, 1, 18, 0, 14, 2, 18, 4, 7, 1, 1, 2, 1, 4],\n",
       " [14, 1, 18, 1, 18, 4, 18, 4, 14, 4, 1, 2, 1, 3],\n",
       " [16, 1, 17, 0, 6, 4, 17, 0, 0, 1, 1, 1, 1, 2],\n",
       " [9, 2, 0, 4, 20, 5, 21, 3, 9, 2, 2, 2, 1, 1],\n",
       " [16, 0, 16, 0, 11, 0, 10, 2, 11, 2, 1, 2, 1, 3],\n",
       " [18, 0, 18, 5, 8, 2, 11, 2, 21, 3, 1, 1, 1, 1],\n",
       " [0, 2, 10, 4, 6, 0, 4, 4, 15, 2, 1, 2, 1, 2]]"
      ]
     },
     "execution_count": 18,
     "metadata": {},
     "output_type": "execute_result"
    }
   ],
   "source": [
    "best_hps = []\n",
    "with open('gdrive/My Drive/Colab Notebooks/10_nodes_new/ACO/acc/AS.txt') as f:\n",
    "    lines = f.readlines()\n",
    "    for line in lines:\n",
    "        a = line.split(\",\")\n",
    "        b = [int(i) for i in a]\n",
    "        best_hps.append(b)\n",
    "best_hps"
   ]
  },
  {
   "cell_type": "code",
   "execution_count": 19,
   "id": "6upquoWw4bY1",
   "metadata": {
    "executionInfo": {
     "elapsed": 12,
     "status": "ok",
     "timestamp": 1705571344132,
     "user": {
      "displayName": "Chi Khanh",
      "userId": "04836854760911124570"
     },
     "user_tz": -180
    },
    "id": "6upquoWw4bY1"
   },
   "outputs": [],
   "source": [
    "data_x_train = x_train\n",
    "data_y_train = y_train\n",
    "\n",
    "data_x_valid = x_valid\n",
    "data_y_valid = y_valid\n",
    "\n",
    "data_x_test = x_test\n",
    "data_y_test = y_test\n",
    "\n",
    "data_x_original_train = x_main_train\n",
    "data_x_original_test = x_main_test"
   ]
  },
  {
   "cell_type": "code",
   "execution_count": 20,
   "id": "z4vCdPcmm33K",
   "metadata": {
    "executionInfo": {
     "elapsed": 11,
     "status": "ok",
     "timestamp": 1705571344133,
     "user": {
      "displayName": "Chi Khanh",
      "userId": "04836854760911124570"
     },
     "user_tz": -180
    },
    "id": "z4vCdPcmm33K"
   },
   "outputs": [],
   "source": [
    "# data_x_train = x_train_1\n",
    "# data_y_train = y_train_1\n",
    "\n",
    "# data_x_valid = x_valid_1\n",
    "# data_y_valid = y_valid_1\n",
    "\n",
    "# data_x_test = x_test_1\n",
    "# data_y_test = y_test_1\n",
    "\n",
    "# data_x_original_train = x_hp_train\n",
    "# data_x_original_test = x_hp_test"
   ]
  },
  {
   "cell_type": "code",
   "execution_count": 21,
   "id": "4678a19f",
   "metadata": {
    "colab": {
     "base_uri": "https://localhost:8080/"
    },
    "id": "4678a19f",
    "outputId": "1d612889-ae36-420a-c1b8-8316bba2e6c1"
   },
   "outputs": [
    {
     "name": "stdout",
     "output_type": "stream",
     "text": [
      "Model: \"model\"\n",
      "_________________________________________________________________\n",
      " Layer (type)                Output Shape              Param #   \n",
      "=================================================================\n",
      " input_1 (InputLayer)        [(None, 4, 14)]           0         \n",
      "                                                                 \n",
      " gru (GRU)                   (None, 4, 160)            84480     \n",
      "                                                                 \n",
      " dropout (Dropout)           (None, 4, 160)            0         \n",
      "                                                                 \n",
      " gru_1 (GRU)                 (None, 4, 170)            169320    \n",
      "                                                                 \n",
      " dropout_1 (Dropout)         (None, 4, 170)            0         \n",
      "                                                                 \n",
      " gru_2 (GRU)                 (None, 4, 60)             41760     \n",
      "                                                                 \n",
      " dropout_2 (Dropout)         (None, 4, 60)             0         \n",
      "                                                                 \n",
      " gru_3 (GRU)                 (None, 4, 170)            118320    \n",
      "                                                                 \n",
      " dropout_3 (Dropout)         (None, 4, 170)            0         \n",
      "                                                                 \n",
      " time_distributed (TimeDistr  (None, 4, 14)            2394      \n",
      " ibuted)                                                         \n",
      "                                                                 \n",
      "=================================================================\n",
      "Total params: 416,274\n",
      "Trainable params: 416,274\n",
      "Non-trainable params: 0\n",
      "_________________________________________________________________\n",
      "Epoch 1/1000\n",
      " 632/9375 [=>............................] - ETA: 5:04 - loss: 0.4212 - custom_accuracy: 0.0036"
     ]
    },
    {
     "ename": "KeyboardInterrupt",
     "evalue": "",
     "output_type": "error",
     "traceback": [
      "\u001b[1;31m---------------------------------------------------------------------------\u001b[0m",
      "\u001b[1;31mKeyboardInterrupt\u001b[0m                         Traceback (most recent call last)",
      "Cell \u001b[1;32mIn[21], line 16\u001b[0m\n\u001b[0;32m     14\u001b[0m model\u001b[38;5;241m.\u001b[39mcompile(loss\u001b[38;5;241m=\u001b[39mBinaryCrossentropy(), optimizer\u001b[38;5;241m=\u001b[39mopt(learning_rate\u001b[38;5;241m=\u001b[39mhp[\u001b[38;5;241m2\u001b[39m\u001b[38;5;241m*\u001b[39mt[\u001b[38;5;241m0\u001b[39m]\u001b[38;5;241m+\u001b[39m\u001b[38;5;241m2\u001b[39m][best_hps[m][\u001b[38;5;241m2\u001b[39m\u001b[38;5;241m*\u001b[39mt[\u001b[38;5;241m0\u001b[39m]\u001b[38;5;241m+\u001b[39m\u001b[38;5;241m2\u001b[39m]]), metrics \u001b[38;5;241m=\u001b[39m [custom_accuracy])\n\u001b[0;32m     15\u001b[0m model\u001b[38;5;241m.\u001b[39msummary()\n\u001b[1;32m---> 16\u001b[0m history \u001b[38;5;241m=\u001b[39m \u001b[43mmodel\u001b[49m\u001b[38;5;241;43m.\u001b[39;49m\u001b[43mfit\u001b[49m\u001b[43m(\u001b[49m\u001b[43mdata_x_train\u001b[49m\u001b[43m,\u001b[49m\u001b[43m \u001b[49m\u001b[43mdata_y_train\u001b[49m\u001b[43m,\u001b[49m\u001b[43m \u001b[49m\u001b[43mepochs\u001b[49m\u001b[38;5;241;43m=\u001b[39;49m\u001b[38;5;241;43m1000\u001b[39;49m\u001b[43m,\u001b[49m\u001b[43m \u001b[49m\u001b[43mbatch_size\u001b[49m\u001b[38;5;241;43m=\u001b[39;49m\u001b[43mhp\u001b[49m\u001b[43m[\u001b[49m\u001b[38;5;241;43m2\u001b[39;49m\u001b[38;5;241;43m*\u001b[39;49m\u001b[43mt\u001b[49m\u001b[43m[\u001b[49m\u001b[38;5;241;43m0\u001b[39;49m\u001b[43m]\u001b[49m\u001b[38;5;241;43m+\u001b[39;49m\u001b[38;5;241;43m3\u001b[39;49m\u001b[43m]\u001b[49m\u001b[43m[\u001b[49m\u001b[43mbest_hps\u001b[49m\u001b[43m[\u001b[49m\u001b[43mm\u001b[49m\u001b[43m]\u001b[49m\u001b[43m[\u001b[49m\u001b[38;5;241;43m2\u001b[39;49m\u001b[38;5;241;43m*\u001b[39;49m\u001b[43mt\u001b[49m\u001b[43m[\u001b[49m\u001b[38;5;241;43m0\u001b[39;49m\u001b[43m]\u001b[49m\u001b[38;5;241;43m+\u001b[39;49m\u001b[38;5;241;43m3\u001b[39;49m\u001b[43m]\u001b[49m\u001b[43m]\u001b[49m\u001b[43m,\u001b[49m\u001b[43m \u001b[49m\u001b[43mcallbacks\u001b[49m\u001b[38;5;241;43m=\u001b[39;49m\u001b[43m[\u001b[49m\u001b[43mcallback\u001b[49m\u001b[43m]\u001b[49m\u001b[43m,\u001b[49m\u001b[43m \u001b[49m\u001b[43mvalidation_data\u001b[49m\u001b[38;5;241;43m=\u001b[39;49m\u001b[43m(\u001b[49m\u001b[43mdata_x_valid\u001b[49m\u001b[43m,\u001b[49m\u001b[43m \u001b[49m\u001b[43mdata_y_valid\u001b[49m\u001b[43m)\u001b[49m\u001b[43m,\u001b[49m\u001b[43m \u001b[49m\u001b[43mverbose\u001b[49m\u001b[38;5;241;43m=\u001b[39;49m\u001b[38;5;241;43m1\u001b[39;49m\u001b[43m)\u001b[49m\n\u001b[0;32m     18\u001b[0m r \u001b[38;5;241m=\u001b[39m Results(number_edges, edges, start_node, end_node, number_steps)\n\u001b[0;32m     19\u001b[0m pred \u001b[38;5;241m=\u001b[39m model\u001b[38;5;241m.\u001b[39mpredict(data_x_train, verbose \u001b[38;5;241m=\u001b[39m \u001b[38;5;241m0\u001b[39m)\n",
      "File \u001b[1;32m~\\AppData\\Roaming\\Python\\Python38\\site-packages\\keras\\utils\\traceback_utils.py:65\u001b[0m, in \u001b[0;36mfilter_traceback.<locals>.error_handler\u001b[1;34m(*args, **kwargs)\u001b[0m\n\u001b[0;32m     63\u001b[0m filtered_tb \u001b[38;5;241m=\u001b[39m \u001b[38;5;28;01mNone\u001b[39;00m\n\u001b[0;32m     64\u001b[0m \u001b[38;5;28;01mtry\u001b[39;00m:\n\u001b[1;32m---> 65\u001b[0m     \u001b[38;5;28;01mreturn\u001b[39;00m \u001b[43mfn\u001b[49m\u001b[43m(\u001b[49m\u001b[38;5;241;43m*\u001b[39;49m\u001b[43margs\u001b[49m\u001b[43m,\u001b[49m\u001b[43m \u001b[49m\u001b[38;5;241;43m*\u001b[39;49m\u001b[38;5;241;43m*\u001b[39;49m\u001b[43mkwargs\u001b[49m\u001b[43m)\u001b[49m\n\u001b[0;32m     66\u001b[0m \u001b[38;5;28;01mexcept\u001b[39;00m \u001b[38;5;167;01mException\u001b[39;00m \u001b[38;5;28;01mas\u001b[39;00m e:\n\u001b[0;32m     67\u001b[0m     filtered_tb \u001b[38;5;241m=\u001b[39m _process_traceback_frames(e\u001b[38;5;241m.\u001b[39m__traceback__)\n",
      "File \u001b[1;32m~\\AppData\\Roaming\\Python\\Python38\\site-packages\\keras\\engine\\training.py:1564\u001b[0m, in \u001b[0;36mModel.fit\u001b[1;34m(self, x, y, batch_size, epochs, verbose, callbacks, validation_split, validation_data, shuffle, class_weight, sample_weight, initial_epoch, steps_per_epoch, validation_steps, validation_batch_size, validation_freq, max_queue_size, workers, use_multiprocessing)\u001b[0m\n\u001b[0;32m   1556\u001b[0m \u001b[38;5;28;01mwith\u001b[39;00m tf\u001b[38;5;241m.\u001b[39mprofiler\u001b[38;5;241m.\u001b[39mexperimental\u001b[38;5;241m.\u001b[39mTrace(\n\u001b[0;32m   1557\u001b[0m     \u001b[38;5;124m\"\u001b[39m\u001b[38;5;124mtrain\u001b[39m\u001b[38;5;124m\"\u001b[39m,\n\u001b[0;32m   1558\u001b[0m     epoch_num\u001b[38;5;241m=\u001b[39mepoch,\n\u001b[1;32m   (...)\u001b[0m\n\u001b[0;32m   1561\u001b[0m     _r\u001b[38;5;241m=\u001b[39m\u001b[38;5;241m1\u001b[39m,\n\u001b[0;32m   1562\u001b[0m ):\n\u001b[0;32m   1563\u001b[0m     callbacks\u001b[38;5;241m.\u001b[39mon_train_batch_begin(step)\n\u001b[1;32m-> 1564\u001b[0m     tmp_logs \u001b[38;5;241m=\u001b[39m \u001b[38;5;28;43mself\u001b[39;49m\u001b[38;5;241;43m.\u001b[39;49m\u001b[43mtrain_function\u001b[49m\u001b[43m(\u001b[49m\u001b[43miterator\u001b[49m\u001b[43m)\u001b[49m\n\u001b[0;32m   1565\u001b[0m     \u001b[38;5;28;01mif\u001b[39;00m data_handler\u001b[38;5;241m.\u001b[39mshould_sync:\n\u001b[0;32m   1566\u001b[0m         context\u001b[38;5;241m.\u001b[39masync_wait()\n",
      "File \u001b[1;32m~\\AppData\\Roaming\\Python\\Python38\\site-packages\\tensorflow\\python\\util\\traceback_utils.py:150\u001b[0m, in \u001b[0;36mfilter_traceback.<locals>.error_handler\u001b[1;34m(*args, **kwargs)\u001b[0m\n\u001b[0;32m    148\u001b[0m filtered_tb \u001b[38;5;241m=\u001b[39m \u001b[38;5;28;01mNone\u001b[39;00m\n\u001b[0;32m    149\u001b[0m \u001b[38;5;28;01mtry\u001b[39;00m:\n\u001b[1;32m--> 150\u001b[0m   \u001b[38;5;28;01mreturn\u001b[39;00m \u001b[43mfn\u001b[49m\u001b[43m(\u001b[49m\u001b[38;5;241;43m*\u001b[39;49m\u001b[43margs\u001b[49m\u001b[43m,\u001b[49m\u001b[43m \u001b[49m\u001b[38;5;241;43m*\u001b[39;49m\u001b[38;5;241;43m*\u001b[39;49m\u001b[43mkwargs\u001b[49m\u001b[43m)\u001b[49m\n\u001b[0;32m    151\u001b[0m \u001b[38;5;28;01mexcept\u001b[39;00m \u001b[38;5;167;01mException\u001b[39;00m \u001b[38;5;28;01mas\u001b[39;00m e:\n\u001b[0;32m    152\u001b[0m   filtered_tb \u001b[38;5;241m=\u001b[39m _process_traceback_frames(e\u001b[38;5;241m.\u001b[39m__traceback__)\n",
      "File \u001b[1;32m~\\AppData\\Roaming\\Python\\Python38\\site-packages\\tensorflow\\python\\eager\\def_function.py:915\u001b[0m, in \u001b[0;36mFunction.__call__\u001b[1;34m(self, *args, **kwds)\u001b[0m\n\u001b[0;32m    912\u001b[0m compiler \u001b[38;5;241m=\u001b[39m \u001b[38;5;124m\"\u001b[39m\u001b[38;5;124mxla\u001b[39m\u001b[38;5;124m\"\u001b[39m \u001b[38;5;28;01mif\u001b[39;00m \u001b[38;5;28mself\u001b[39m\u001b[38;5;241m.\u001b[39m_jit_compile \u001b[38;5;28;01melse\u001b[39;00m \u001b[38;5;124m\"\u001b[39m\u001b[38;5;124mnonXla\u001b[39m\u001b[38;5;124m\"\u001b[39m\n\u001b[0;32m    914\u001b[0m \u001b[38;5;28;01mwith\u001b[39;00m OptionalXlaContext(\u001b[38;5;28mself\u001b[39m\u001b[38;5;241m.\u001b[39m_jit_compile):\n\u001b[1;32m--> 915\u001b[0m   result \u001b[38;5;241m=\u001b[39m \u001b[38;5;28;43mself\u001b[39;49m\u001b[38;5;241;43m.\u001b[39;49m\u001b[43m_call\u001b[49m\u001b[43m(\u001b[49m\u001b[38;5;241;43m*\u001b[39;49m\u001b[43margs\u001b[49m\u001b[43m,\u001b[49m\u001b[43m \u001b[49m\u001b[38;5;241;43m*\u001b[39;49m\u001b[38;5;241;43m*\u001b[39;49m\u001b[43mkwds\u001b[49m\u001b[43m)\u001b[49m\n\u001b[0;32m    917\u001b[0m new_tracing_count \u001b[38;5;241m=\u001b[39m \u001b[38;5;28mself\u001b[39m\u001b[38;5;241m.\u001b[39mexperimental_get_tracing_count()\n\u001b[0;32m    918\u001b[0m without_tracing \u001b[38;5;241m=\u001b[39m (tracing_count \u001b[38;5;241m==\u001b[39m new_tracing_count)\n",
      "File \u001b[1;32m~\\AppData\\Roaming\\Python\\Python38\\site-packages\\tensorflow\\python\\eager\\def_function.py:947\u001b[0m, in \u001b[0;36mFunction._call\u001b[1;34m(self, *args, **kwds)\u001b[0m\n\u001b[0;32m    944\u001b[0m   \u001b[38;5;28mself\u001b[39m\u001b[38;5;241m.\u001b[39m_lock\u001b[38;5;241m.\u001b[39mrelease()\n\u001b[0;32m    945\u001b[0m   \u001b[38;5;66;03m# In this case we have created variables on the first call, so we run the\u001b[39;00m\n\u001b[0;32m    946\u001b[0m   \u001b[38;5;66;03m# defunned version which is guaranteed to never create variables.\u001b[39;00m\n\u001b[1;32m--> 947\u001b[0m   \u001b[38;5;28;01mreturn\u001b[39;00m \u001b[38;5;28;43mself\u001b[39;49m\u001b[38;5;241;43m.\u001b[39;49m\u001b[43m_stateless_fn\u001b[49m\u001b[43m(\u001b[49m\u001b[38;5;241;43m*\u001b[39;49m\u001b[43margs\u001b[49m\u001b[43m,\u001b[49m\u001b[43m \u001b[49m\u001b[38;5;241;43m*\u001b[39;49m\u001b[38;5;241;43m*\u001b[39;49m\u001b[43mkwds\u001b[49m\u001b[43m)\u001b[49m  \u001b[38;5;66;03m# pylint: disable=not-callable\u001b[39;00m\n\u001b[0;32m    948\u001b[0m \u001b[38;5;28;01melif\u001b[39;00m \u001b[38;5;28mself\u001b[39m\u001b[38;5;241m.\u001b[39m_stateful_fn \u001b[38;5;129;01mis\u001b[39;00m \u001b[38;5;129;01mnot\u001b[39;00m \u001b[38;5;28;01mNone\u001b[39;00m:\n\u001b[0;32m    949\u001b[0m   \u001b[38;5;66;03m# Release the lock early so that multiple threads can perform the call\u001b[39;00m\n\u001b[0;32m    950\u001b[0m   \u001b[38;5;66;03m# in parallel.\u001b[39;00m\n\u001b[0;32m    951\u001b[0m   \u001b[38;5;28mself\u001b[39m\u001b[38;5;241m.\u001b[39m_lock\u001b[38;5;241m.\u001b[39mrelease()\n",
      "File \u001b[1;32m~\\AppData\\Roaming\\Python\\Python38\\site-packages\\tensorflow\\python\\eager\\function.py:2496\u001b[0m, in \u001b[0;36mFunction.__call__\u001b[1;34m(self, *args, **kwargs)\u001b[0m\n\u001b[0;32m   2493\u001b[0m \u001b[38;5;28;01mwith\u001b[39;00m \u001b[38;5;28mself\u001b[39m\u001b[38;5;241m.\u001b[39m_lock:\n\u001b[0;32m   2494\u001b[0m   (graph_function,\n\u001b[0;32m   2495\u001b[0m    filtered_flat_args) \u001b[38;5;241m=\u001b[39m \u001b[38;5;28mself\u001b[39m\u001b[38;5;241m.\u001b[39m_maybe_define_function(args, kwargs)\n\u001b[1;32m-> 2496\u001b[0m \u001b[38;5;28;01mreturn\u001b[39;00m \u001b[43mgraph_function\u001b[49m\u001b[38;5;241;43m.\u001b[39;49m\u001b[43m_call_flat\u001b[49m\u001b[43m(\u001b[49m\n\u001b[0;32m   2497\u001b[0m \u001b[43m    \u001b[49m\u001b[43mfiltered_flat_args\u001b[49m\u001b[43m,\u001b[49m\u001b[43m \u001b[49m\u001b[43mcaptured_inputs\u001b[49m\u001b[38;5;241;43m=\u001b[39;49m\u001b[43mgraph_function\u001b[49m\u001b[38;5;241;43m.\u001b[39;49m\u001b[43mcaptured_inputs\u001b[49m\u001b[43m)\u001b[49m\n",
      "File \u001b[1;32m~\\AppData\\Roaming\\Python\\Python38\\site-packages\\tensorflow\\python\\eager\\function.py:1862\u001b[0m, in \u001b[0;36mConcreteFunction._call_flat\u001b[1;34m(self, args, captured_inputs, cancellation_manager)\u001b[0m\n\u001b[0;32m   1858\u001b[0m possible_gradient_type \u001b[38;5;241m=\u001b[39m gradients_util\u001b[38;5;241m.\u001b[39mPossibleTapeGradientTypes(args)\n\u001b[0;32m   1859\u001b[0m \u001b[38;5;28;01mif\u001b[39;00m (possible_gradient_type \u001b[38;5;241m==\u001b[39m gradients_util\u001b[38;5;241m.\u001b[39mPOSSIBLE_GRADIENT_TYPES_NONE\n\u001b[0;32m   1860\u001b[0m     \u001b[38;5;129;01mand\u001b[39;00m executing_eagerly):\n\u001b[0;32m   1861\u001b[0m   \u001b[38;5;66;03m# No tape is watching; skip to running the function.\u001b[39;00m\n\u001b[1;32m-> 1862\u001b[0m   \u001b[38;5;28;01mreturn\u001b[39;00m \u001b[38;5;28mself\u001b[39m\u001b[38;5;241m.\u001b[39m_build_call_outputs(\u001b[38;5;28;43mself\u001b[39;49m\u001b[38;5;241;43m.\u001b[39;49m\u001b[43m_inference_function\u001b[49m\u001b[38;5;241;43m.\u001b[39;49m\u001b[43mcall\u001b[49m\u001b[43m(\u001b[49m\n\u001b[0;32m   1863\u001b[0m \u001b[43m      \u001b[49m\u001b[43mctx\u001b[49m\u001b[43m,\u001b[49m\u001b[43m \u001b[49m\u001b[43margs\u001b[49m\u001b[43m,\u001b[49m\u001b[43m \u001b[49m\u001b[43mcancellation_manager\u001b[49m\u001b[38;5;241;43m=\u001b[39;49m\u001b[43mcancellation_manager\u001b[49m\u001b[43m)\u001b[49m)\n\u001b[0;32m   1864\u001b[0m forward_backward \u001b[38;5;241m=\u001b[39m \u001b[38;5;28mself\u001b[39m\u001b[38;5;241m.\u001b[39m_select_forward_and_backward_functions(\n\u001b[0;32m   1865\u001b[0m     args,\n\u001b[0;32m   1866\u001b[0m     possible_gradient_type,\n\u001b[0;32m   1867\u001b[0m     executing_eagerly)\n\u001b[0;32m   1868\u001b[0m forward_function, args_with_tangents \u001b[38;5;241m=\u001b[39m forward_backward\u001b[38;5;241m.\u001b[39mforward()\n",
      "File \u001b[1;32m~\\AppData\\Roaming\\Python\\Python38\\site-packages\\tensorflow\\python\\eager\\function.py:499\u001b[0m, in \u001b[0;36m_EagerDefinedFunction.call\u001b[1;34m(self, ctx, args, cancellation_manager)\u001b[0m\n\u001b[0;32m    497\u001b[0m \u001b[38;5;28;01mwith\u001b[39;00m _InterpolateFunctionError(\u001b[38;5;28mself\u001b[39m):\n\u001b[0;32m    498\u001b[0m   \u001b[38;5;28;01mif\u001b[39;00m cancellation_manager \u001b[38;5;129;01mis\u001b[39;00m \u001b[38;5;28;01mNone\u001b[39;00m:\n\u001b[1;32m--> 499\u001b[0m     outputs \u001b[38;5;241m=\u001b[39m \u001b[43mexecute\u001b[49m\u001b[38;5;241;43m.\u001b[39;49m\u001b[43mexecute\u001b[49m\u001b[43m(\u001b[49m\n\u001b[0;32m    500\u001b[0m \u001b[43m        \u001b[49m\u001b[38;5;28;43mstr\u001b[39;49m\u001b[43m(\u001b[49m\u001b[38;5;28;43mself\u001b[39;49m\u001b[38;5;241;43m.\u001b[39;49m\u001b[43msignature\u001b[49m\u001b[38;5;241;43m.\u001b[39;49m\u001b[43mname\u001b[49m\u001b[43m)\u001b[49m\u001b[43m,\u001b[49m\n\u001b[0;32m    501\u001b[0m \u001b[43m        \u001b[49m\u001b[43mnum_outputs\u001b[49m\u001b[38;5;241;43m=\u001b[39;49m\u001b[38;5;28;43mself\u001b[39;49m\u001b[38;5;241;43m.\u001b[39;49m\u001b[43m_num_outputs\u001b[49m\u001b[43m,\u001b[49m\n\u001b[0;32m    502\u001b[0m \u001b[43m        \u001b[49m\u001b[43minputs\u001b[49m\u001b[38;5;241;43m=\u001b[39;49m\u001b[43margs\u001b[49m\u001b[43m,\u001b[49m\n\u001b[0;32m    503\u001b[0m \u001b[43m        \u001b[49m\u001b[43mattrs\u001b[49m\u001b[38;5;241;43m=\u001b[39;49m\u001b[43mattrs\u001b[49m\u001b[43m,\u001b[49m\n\u001b[0;32m    504\u001b[0m \u001b[43m        \u001b[49m\u001b[43mctx\u001b[49m\u001b[38;5;241;43m=\u001b[39;49m\u001b[43mctx\u001b[49m\u001b[43m)\u001b[49m\n\u001b[0;32m    505\u001b[0m   \u001b[38;5;28;01melse\u001b[39;00m:\n\u001b[0;32m    506\u001b[0m     outputs \u001b[38;5;241m=\u001b[39m execute\u001b[38;5;241m.\u001b[39mexecute_with_cancellation(\n\u001b[0;32m    507\u001b[0m         \u001b[38;5;28mstr\u001b[39m(\u001b[38;5;28mself\u001b[39m\u001b[38;5;241m.\u001b[39msignature\u001b[38;5;241m.\u001b[39mname),\n\u001b[0;32m    508\u001b[0m         num_outputs\u001b[38;5;241m=\u001b[39m\u001b[38;5;28mself\u001b[39m\u001b[38;5;241m.\u001b[39m_num_outputs,\n\u001b[1;32m   (...)\u001b[0m\n\u001b[0;32m    511\u001b[0m         ctx\u001b[38;5;241m=\u001b[39mctx,\n\u001b[0;32m    512\u001b[0m         cancellation_manager\u001b[38;5;241m=\u001b[39mcancellation_manager)\n",
      "File \u001b[1;32m~\\AppData\\Roaming\\Python\\Python38\\site-packages\\tensorflow\\python\\eager\\execute.py:54\u001b[0m, in \u001b[0;36mquick_execute\u001b[1;34m(op_name, num_outputs, inputs, attrs, ctx, name)\u001b[0m\n\u001b[0;32m     52\u001b[0m \u001b[38;5;28;01mtry\u001b[39;00m:\n\u001b[0;32m     53\u001b[0m   ctx\u001b[38;5;241m.\u001b[39mensure_initialized()\n\u001b[1;32m---> 54\u001b[0m   tensors \u001b[38;5;241m=\u001b[39m \u001b[43mpywrap_tfe\u001b[49m\u001b[38;5;241;43m.\u001b[39;49m\u001b[43mTFE_Py_Execute\u001b[49m\u001b[43m(\u001b[49m\u001b[43mctx\u001b[49m\u001b[38;5;241;43m.\u001b[39;49m\u001b[43m_handle\u001b[49m\u001b[43m,\u001b[49m\u001b[43m \u001b[49m\u001b[43mdevice_name\u001b[49m\u001b[43m,\u001b[49m\u001b[43m \u001b[49m\u001b[43mop_name\u001b[49m\u001b[43m,\u001b[49m\n\u001b[0;32m     55\u001b[0m \u001b[43m                                      \u001b[49m\u001b[43minputs\u001b[49m\u001b[43m,\u001b[49m\u001b[43m \u001b[49m\u001b[43mattrs\u001b[49m\u001b[43m,\u001b[49m\u001b[43m \u001b[49m\u001b[43mnum_outputs\u001b[49m\u001b[43m)\u001b[49m\n\u001b[0;32m     56\u001b[0m \u001b[38;5;28;01mexcept\u001b[39;00m core\u001b[38;5;241m.\u001b[39m_NotOkStatusException \u001b[38;5;28;01mas\u001b[39;00m e:\n\u001b[0;32m     57\u001b[0m   \u001b[38;5;28;01mif\u001b[39;00m name \u001b[38;5;129;01mis\u001b[39;00m \u001b[38;5;129;01mnot\u001b[39;00m \u001b[38;5;28;01mNone\u001b[39;00m:\n",
      "\u001b[1;31mKeyboardInterrupt\u001b[0m: "
     ]
    }
   ],
   "source": [
    "for m in range(5, 8):\n",
    "    tf.keras.backend.clear_session()\n",
    "    input_shape = (number_steps, number_edges)\n",
    "    inputs = Input(shape=input_shape)\n",
    "    x_input = inputs\n",
    "    cell_type = hp[2*t[0]][best_hps[m][2*t[0]]]\n",
    "    for i in range(t[0]):\n",
    "        if hp[2*i][best_hps[m][2*i]] != -1:\n",
    "            x_input = cell_type(hp[2*i][best_hps[m][2*i]], return_sequences=True)(x_input)\n",
    "            x_input = Dropout(hp[2*i+1][best_hps[m][2*i+1]])(x_input)\n",
    "    outputs = TimeDistributed(Dense(number_edges, activation=\"sigmoid\"))(x_input)\n",
    "    model = Model(inputs=inputs, outputs=outputs)\n",
    "    opt = hp[2*t[0]+1][best_hps[m][2*t[0]+1]]\n",
    "    model.compile(loss=BinaryCrossentropy(), optimizer=opt(learning_rate=hp[2*t[0]+2][best_hps[m][2*t[0]+2]]), metrics = [custom_accuracy])\n",
    "    model.summary()\n",
    "    history = model.fit(data_x_train, data_y_train, epochs=1000, batch_size=hp[2*t[0]+3][best_hps[m][2*t[0]+3]], callbacks=[callback], validation_data=(data_x_valid, data_y_valid), verbose=1)\n",
    "\n",
    "    r = Results(number_edges, edges, start_node, end_node, number_steps)\n",
    "    pred = model.predict(data_x_train, verbose = 0)\n",
    "    pred_test = model.predict(data_x_test, verbose = 0)\n",
    "    accuracy_train = list(r.get_accuracy(pred, data_x_original_train, data_y_train))\n",
    "    accuracy_test = list(r.get_accuracy(pred_test, data_x_original_test, data_y_test))\n",
    "\n",
    "    with open(\"/content/gdrive/My Drive/Colab Notebooks/10_nodes_new/ACO/acc/history_model_AS/history_{}.txt\".format(m+1), \"w\") as output:\n",
    "      output.write(str(history.history['custom_accuracy'])+'\\n')\n",
    "      output.write(str(history.history['val_custom_accuracy'])+'\\n')\n",
    "      output.write(str(accuracy_train)+'\\n')\n",
    "      output.write(str(accuracy_test)+'\\n')\n",
    "\n",
    "    model.save('gdrive/My Drive/Colab Notebooks/10_nodes_new/ACO/acc/history_model_AS/model_{}.h5'.format(m+1))"
   ]
  },
  {
   "cell_type": "code",
   "execution_count": null,
   "id": "1397a87f",
   "metadata": {},
   "outputs": [],
   "source": []
  }
 ],
 "metadata": {
  "accelerator": "GPU",
  "colab": {
   "gpuType": "T4",
   "provenance": []
  },
  "kernelspec": {
   "display_name": "Python 3 (ipykernel)",
   "language": "python",
   "name": "python3"
  },
  "language_info": {
   "codemirror_mode": {
    "name": "ipython",
    "version": 3
   },
   "file_extension": ".py",
   "mimetype": "text/x-python",
   "name": "python",
   "nbconvert_exporter": "python",
   "pygments_lexer": "ipython3",
   "version": "3.8.10"
  }
 },
 "nbformat": 4,
 "nbformat_minor": 5
}
